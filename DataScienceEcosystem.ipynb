{
 "cells": [
  {
   "cell_type": "markdown",
   "id": "96aa23af-d1eb-4e26-8223-7e2002d5146a",
   "metadata": {},
   "source": [
    "# Data Science Tools and Ecosystem"
   ]
  },
  {
   "cell_type": "markdown",
   "id": "3eafaadb-6edd-458f-81da-780057752c09",
   "metadata": {},
   "source": [
    "In this notebook, Data Science Tools and Ecosystem are summarized.\n",
    "# Objectives:\n",
    "\n",
    "List popular languages for Data Science\n",
    "* SQL\n",
    "* R\n",
    "* Matlab\n",
    "* Python\n",
    "* Javascript\n",
    "\n"
   ]
  },
  {
   "cell_type": "markdown",
   "id": "f383defe-9f3a-4d54-8202-31afd00d5f17",
   "metadata": {},
   "source": [
    "Some of the popular languages that Data Scientists use are:\n",
    "R, python, sql and javascript"
   ]
  },
  {
   "cell_type": "markdown",
   "id": "97b39c3d-d4bc-4699-85a1-6ded7f8a62c1",
   "metadata": {},
   "source": [
    "1. Python\n",
    "2. R\n",
    "3. SQL\n",
    "4. JavaScript\n"
   ]
  },
  {
   "cell_type": "markdown",
   "id": "0d5b30f3-f3ac-4009-ac0d-e9761e4b4cbf",
   "metadata": {},
   "source": [
    "Some of the commonly used libraries used by Data Scientists include:"
   ]
  },
  {
   "cell_type": "markdown",
   "id": "ed20acab-b81d-442f-b637-008c676d2cb0",
   "metadata": {},
   "source": [
    "1. matplotlib\n",
    "2. numpy\n",
    "3. pandas"
   ]
  },
  {
   "cell_type": "markdown",
   "id": "44138fba-00d8-4f4f-9dbe-90bf128ec3aa",
   "metadata": {},
   "source": [
    "\n",
    "| Data Science Tools | \n",
    "|--------------------|\n",
    "| R studio           | \n",
    "| TensorFlow         | \n",
    "| Jupyter Notebook   | \n"
   ]
  },
  {
   "cell_type": "markdown",
   "id": "5fa6e951-5a92-4a15-b1c7-8bf64d3701e6",
   "metadata": {},
   "source": [
    "### Below are a few examples of evaluating arithmetic expressions in Python"
   ]
  },
  {
   "cell_type": "code",
   "execution_count": 23,
   "id": "88b78174-226a-4222-89c8-c57ed62ce3b4",
   "metadata": {},
   "outputs": [
    {
     "name": "stdout",
     "output_type": "stream",
     "text": [
      "17\n"
     ]
    }
   ],
   "source": [
    "#This a simple arithmetic expression to mutiply then add integers\n",
    "print((3*4)+5)\n"
   ]
  },
  {
   "cell_type": "code",
   "execution_count": 27,
   "id": "266f79e7-2c79-48d6-8a61-07294432fd68",
   "metadata": {},
   "outputs": [
    {
     "name": "stdout",
     "output_type": "stream",
     "text": [
      "3.3333333333333335\n"
     ]
    }
   ],
   "source": [
    "#This will convert 200 minutes to hours by diving by 60\n",
    "print(200/60)"
   ]
  },
  {
   "cell_type": "markdown",
   "id": "cf45d148-0bf9-4fa4-8dd1-9cfaf95b63be",
   "metadata": {},
   "source": [
    "## Author\n",
    "GOWRISH SHANBHOGUE"
   ]
  },
  {
   "cell_type": "code",
   "execution_count": null,
   "id": "b74cb482-b40f-4254-ae1e-6a4045a648c3",
   "metadata": {},
   "outputs": [],
   "source": []
  }
 ],
 "metadata": {
  "kernelspec": {
   "display_name": "Python 3 (ipykernel)",
   "language": "python",
   "name": "python3"
  },
  "language_info": {
   "codemirror_mode": {
    "name": "ipython",
    "version": 3
   },
   "file_extension": ".py",
   "mimetype": "text/x-python",
   "name": "python",
   "nbconvert_exporter": "python",
   "pygments_lexer": "ipython3",
   "version": "3.12.7"
  }
 },
 "nbformat": 4,
 "nbformat_minor": 5
}
